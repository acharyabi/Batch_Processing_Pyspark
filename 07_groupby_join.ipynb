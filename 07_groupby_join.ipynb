{
 "cells": [
  {
   "cell_type": "code",
   "execution_count": 1,
   "id": "30a8c571",
   "metadata": {},
   "outputs": [
    {
     "name": "stderr",
     "output_type": "stream",
     "text": [
      "Setting default log level to \"WARN\".\n",
      "To adjust logging level use sc.setLogLevel(newLevel). For SparkR, use setLogLevel(newLevel).\n",
      "23/11/22 08:16:46 WARN NativeCodeLoader: Unable to load native-hadoop library for your platform... using builtin-java classes where applicable\n"
     ]
    }
   ],
   "source": [
    "import pyspark\n",
    "from pyspark.sql import SparkSession\n",
    "\n",
    "spark= SparkSession.builder \\\n",
    "    .master(\"local\") \\\n",
    "    .appName('test') \\\n",
    "    .getOrCreate()"
   ]
  },
  {
   "cell_type": "code",
   "execution_count": 2,
   "id": "e8bc0da8",
   "metadata": {},
   "outputs": [
    {
     "name": "stderr",
     "output_type": "stream",
     "text": [
      "                                                                                \r"
     ]
    }
   ],
   "source": [
    "df_green= spark.read.parquet('data/pq/green/*/*')"
   ]
  },
  {
   "cell_type": "code",
   "execution_count": 3,
   "id": "a7be81b1",
   "metadata": {},
   "outputs": [
    {
     "data": {
      "text/plain": [
       "'3.4.1'"
      ]
     },
     "execution_count": 3,
     "metadata": {},
     "output_type": "execute_result"
    }
   ],
   "source": [
    "pyspark.__version__"
   ]
  },
  {
   "cell_type": "code",
   "execution_count": 4,
   "id": "b648f0c1",
   "metadata": {},
   "outputs": [
    {
     "data": {
      "text/plain": [
       "['VendorID',\n",
       " 'lpep_pickup_datetime',\n",
       " 'lpep_dropoff_datetime',\n",
       " 'store_and_fwd_flag',\n",
       " 'RatecodeID',\n",
       " 'PULocationID',\n",
       " 'DOLocationID',\n",
       " 'passenger_count',\n",
       " 'trip_distance',\n",
       " 'fare_amount',\n",
       " 'extra',\n",
       " 'mta_tax',\n",
       " 'tip_amount',\n",
       " 'tolls_amount',\n",
       " 'ehail_fee',\n",
       " 'improvement_surcharge',\n",
       " 'total_amount',\n",
       " 'payment_type',\n",
       " 'trip_type',\n",
       " 'congestion_surcharge']"
      ]
     },
     "execution_count": 4,
     "metadata": {},
     "output_type": "execute_result"
    }
   ],
   "source": [
    "df_green.columns"
   ]
  },
  {
   "cell_type": "code",
   "execution_count": 5,
   "id": "9556f70e",
   "metadata": {},
   "outputs": [],
   "source": [
    "df_green.createOrReplaceTempView('green')"
   ]
  },
  {
   "cell_type": "code",
   "execution_count": 6,
   "id": "ea2ee3cc",
   "metadata": {},
   "outputs": [],
   "source": [
    "from pyspark.sql.functions import date_trunc"
   ]
  },
  {
   "cell_type": "code",
   "execution_count": 7,
   "id": "b615316f",
   "metadata": {},
   "outputs": [],
   "source": [
    "df_green_result = spark.sql(\"\"\"\n",
    "SELECT \n",
    "    -- Reveneue grouping \n",
    "    PULocationID AS zone,\n",
    "    date_trunc('hour', lpep_pickup_datetime) AS hour, \n",
    "   \n",
    "    -- Revenue calculation \n",
    "    SUM(tolls_amount) AS amount,\n",
    "    COUNT(1) AS number_records\n",
    "FROM\n",
    "    green\n",
    "WHERE\n",
    "    lpep_pickup_datetime >= '2020-01-01 00:00:00'\n",
    "GROUP BY\n",
    "    1, 2\n",
    "ORDER BY\n",
    "    1, 2\n",
    "\"\"\")\n",
    "# Doing 1,2,3 provides the selection of top 3 params."
   ]
  },
  {
   "cell_type": "code",
   "execution_count": 8,
   "id": "93469cff-f04c-46bd-a70c-257025b5d221",
   "metadata": {},
   "outputs": [
    {
     "name": "stderr",
     "output_type": "stream",
     "text": [
      "[Stage 3:>                                                          (0 + 1) / 1]\r"
     ]
    },
    {
     "name": "stdout",
     "output_type": "stream",
     "text": [
      "+----+-------------------+------+--------------+\n",
      "|zone|               hour|amount|number_records|\n",
      "+----+-------------------+------+--------------+\n",
      "|   1|2020-01-01 03:00:00|   0.0|             1|\n",
      "|   1|2020-01-03 05:00:00|   0.0|             1|\n",
      "|   1|2020-01-26 10:00:00|   0.0|             1|\n",
      "|   1|2020-01-29 18:00:00|   0.0|             1|\n",
      "|   1|2020-02-01 06:00:00|   0.0|             1|\n",
      "|   1|2020-02-06 07:00:00|   0.0|             1|\n",
      "|   1|2020-02-16 07:00:00|   0.0|             1|\n",
      "|   1|2020-02-17 13:00:00|   0.0|             1|\n",
      "|   1|2020-02-26 17:00:00|   0.0|             1|\n",
      "|   1|2020-03-02 15:00:00|   0.0|             1|\n",
      "|   1|2020-03-11 12:00:00|   0.0|             1|\n",
      "|   1|2020-03-12 11:00:00|   0.0|             1|\n",
      "|   1|2020-03-14 11:00:00|   0.0|             1|\n",
      "|   1|2020-03-21 17:00:00|   0.0|             1|\n",
      "|   1|2020-04-10 13:00:00|   0.0|             1|\n",
      "|   1|2020-04-23 08:00:00|   0.0|             1|\n",
      "|   1|2020-07-12 07:00:00|  10.5|             1|\n",
      "|   1|2020-07-15 06:00:00|   0.0|             1|\n",
      "|   1|2020-07-18 18:00:00|  12.5|             1|\n",
      "|   1|2020-08-16 15:00:00| 13.75|             1|\n",
      "+----+-------------------+------+--------------+\n",
      "only showing top 20 rows\n",
      "\n"
     ]
    },
    {
     "name": "stderr",
     "output_type": "stream",
     "text": [
      "                                                                                \r"
     ]
    }
   ],
   "source": [
    "df_green_result.show()"
   ]
  },
  {
   "cell_type": "code",
   "execution_count": 9,
   "id": "30605bf9-772a-45a2-8829-65f5ec5be5f4",
   "metadata": {},
   "outputs": [
    {
     "name": "stderr",
     "output_type": "stream",
     "text": [
      "                                                                                \r"
     ]
    }
   ],
   "source": [
    "df_green_result.write.parquet('data/report/revenue/green', mode='overwrite')"
   ]
  },
  {
   "cell_type": "code",
   "execution_count": 10,
   "id": "6f03dc37-8860-4070-a32d-ed3a12f4a595",
   "metadata": {},
   "outputs": [],
   "source": [
    "df_yellow= spark.read.parquet('data/pq/yellow/*/*')\n",
    "df_yellow.createOrReplaceTempView('yellow')"
   ]
  },
  {
   "cell_type": "code",
   "execution_count": 11,
   "id": "7f3e6d0b-ec46-4e59-89ed-e949db363f40",
   "metadata": {},
   "outputs": [
    {
     "data": {
      "text/plain": [
       "['VendorID',\n",
       " 'tpep_pickup_datetime',\n",
       " 'tpep_dropoff_datetime',\n",
       " 'passenger_count',\n",
       " 'trip_distance',\n",
       " 'RatecodeID',\n",
       " 'store_and_fwd_flag',\n",
       " 'PULocationID',\n",
       " 'DOLocationID',\n",
       " 'payment_type',\n",
       " 'fare_amount',\n",
       " 'extra',\n",
       " 'mta_tax',\n",
       " 'tip_amount',\n",
       " 'tolls_amount',\n",
       " 'improvement_surcharge',\n",
       " 'total_amount',\n",
       " 'congestion_surcharge']"
      ]
     },
     "execution_count": 11,
     "metadata": {},
     "output_type": "execute_result"
    }
   ],
   "source": [
    "df_yellow.columns"
   ]
  },
  {
   "cell_type": "code",
   "execution_count": 12,
   "id": "a94be001-027c-4046-a136-0e39e6512f9d",
   "metadata": {},
   "outputs": [],
   "source": [
    "df_yellow_result = spark.sql(\"\"\"\n",
    "SELECT \n",
    "    -- Reveneue grouping \n",
    "    PULocationID AS zone,\n",
    "    date_trunc('hour', tpep_pickup_datetime) AS hour, \n",
    "   \n",
    "    -- Revenue calculation \n",
    "    SUM(tolls_amount) AS amount,\n",
    "    COUNT(1) AS number_records\n",
    "FROM\n",
    "    yellow\n",
    "WHERE\n",
    "    tpep_pickup_datetime >= '2020-01-01 00:00:00'\n",
    "GROUP BY\n",
    "    1, 2\n",
    "ORDER BY\n",
    "    1, 2\n",
    "\"\"\")\n",
    "# Doing 1,2,3 provides the selection of top 3 params."
   ]
  },
  {
   "cell_type": "code",
   "execution_count": 13,
   "id": "00932800-d7ba-4816-adbb-e00e596b94ca",
   "metadata": {},
   "outputs": [
    {
     "name": "stderr",
     "output_type": "stream",
     "text": [
      "[Stage 15:>                                                         (0 + 1) / 1]\r"
     ]
    },
    {
     "name": "stdout",
     "output_type": "stream",
     "text": [
      "+----+-------------------+------+--------------+\n",
      "|zone|               hour|amount|number_records|\n",
      "+----+-------------------+------+--------------+\n",
      "|   1|2020-01-01 03:00:00|   0.0|             1|\n",
      "|   1|2020-01-01 04:00:00|   0.0|             1|\n",
      "|   1|2020-01-01 05:00:00|   0.0|             1|\n",
      "|   1|2020-01-01 06:00:00|  43.5|             4|\n",
      "|   1|2020-01-01 07:00:00|   0.0|             1|\n",
      "|   1|2020-01-01 08:00:00|   0.0|             1|\n",
      "|   1|2020-01-01 09:00:00|   0.0|             2|\n",
      "|   1|2020-01-01 10:00:00|   0.0|             2|\n",
      "|   1|2020-01-01 11:00:00|   0.0|             1|\n",
      "|   1|2020-01-01 12:00:00|   0.0|             3|\n",
      "|   1|2020-01-01 13:00:00|  25.0|             2|\n",
      "|   1|2020-01-01 14:00:00|  17.0|             3|\n",
      "|   1|2020-01-01 15:00:00|  15.5|             4|\n",
      "|   1|2020-01-01 16:00:00|  21.0|             6|\n",
      "|   1|2020-01-01 17:00:00|  17.5|             3|\n",
      "|   1|2020-01-01 18:00:00|   0.0|             3|\n",
      "|   1|2020-01-01 19:00:00|   0.0|             1|\n",
      "|   1|2020-01-01 20:00:00|   0.0|             3|\n",
      "|   1|2020-01-02 01:00:00|   0.0|             1|\n",
      "|   1|2020-01-02 03:00:00|   0.0|             1|\n",
      "+----+-------------------+------+--------------+\n",
      "only showing top 20 rows\n",
      "\n"
     ]
    },
    {
     "name": "stderr",
     "output_type": "stream",
     "text": [
      "                                                                                \r"
     ]
    }
   ],
   "source": [
    "df_yellow_result.show()"
   ]
  },
  {
   "cell_type": "code",
   "execution_count": 26,
   "id": "5d92eff4-53aa-4c56-a322-66f4ac886455",
   "metadata": {},
   "outputs": [
    {
     "name": "stderr",
     "output_type": "stream",
     "text": [
      "                                                                                \r"
     ]
    }
   ],
   "source": [
    "df_yellow_result \\\n",
    "    .repartition(20) \\\n",
    "    .write.parquet('data/report/revenue/yellow', mode='overwrite')"
   ]
  },
  {
   "cell_type": "code",
   "execution_count": 27,
   "id": "9d4c37df-2a40-403a-8006-9c7499092e4e",
   "metadata": {},
   "outputs": [],
   "source": [
    "#Instead of working all on the files we will look onto materialized results.\n",
    "df_green_result = spark.read.parquet('data/report/revenue/green')\n",
    "df_yellow_result = spark.read.parquet('data/report/revenue/yellow')"
   ]
  },
  {
   "cell_type": "code",
   "execution_count": 28,
   "id": "3cf876c1-6899-4ea3-bad8-543ffe2521e4",
   "metadata": {},
   "outputs": [],
   "source": [
    "#Creating So That Both Will have distinct records and amount.\n",
    "df_green_result_tmp=df_green_result\\\n",
    "    .withColumnRenamed('amount', 'green_amount') \\\n",
    "    .withColumnRenamed('number_records','green_number_records')\n",
    "\n",
    "df_yellow_result_tmp = df_yellow_result \\\n",
    "    .withColumnRenamed('amount', 'yellow_amount') \\\n",
    "    .withColumnRenamed('number_records','yellow_number_records')"
   ]
  },
  {
   "cell_type": "code",
   "execution_count": 29,
   "id": "ca2cf2dd-a49d-4811-aa8b-3f625197e8d3",
   "metadata": {},
   "outputs": [],
   "source": [
    "#Doing Outer Join.\n",
    "df_join= df_green_result_tmp.join(df_yellow_result_tmp, on=['hour','zone'], how='outer')"
   ]
  },
  {
   "cell_type": "code",
   "execution_count": 32,
   "id": "3dc8e5b2-793b-422d-806d-4f7448ad30e9",
   "metadata": {},
   "outputs": [
    {
     "name": "stderr",
     "output_type": "stream",
     "text": [
      "                                                                                \r"
     ]
    }
   ],
   "source": [
    "df_join.write.parquet('data/report/revenue/total', mode='overwrite')\n",
    "#While seeing results of computation there was not much difference using spark read or otherwise.\n",
    "#It may be because we are doing join and group by in the same file.\n",
    "#This maybe because the dataset being small otherwise this is a good approach."
   ]
  },
  {
   "cell_type": "code",
   "execution_count": 33,
   "id": "be7df06c-8b6c-4544-8ac1-5a68e3fffc28",
   "metadata": {},
   "outputs": [
    {
     "name": "stderr",
     "output_type": "stream",
     "text": [
      "[Stage 69:>                                                         (0 + 1) / 1]\r"
     ]
    },
    {
     "name": "stdout",
     "output_type": "stream",
     "text": [
      "+-------------------+----+------------+--------------------+-------------+---------------------+\n",
      "|               hour|zone|green_amount|green_number_records|yellow_amount|yellow_number_records|\n",
      "+-------------------+----+------------+--------------------+-------------+---------------------+\n",
      "|2020-01-01 00:00:00|   3|        null|                null|          0.0|                    1|\n",
      "|2020-01-01 00:00:00|   4|        null|                null|         6.12|                   57|\n",
      "|2020-01-01 00:00:00|   7|        6.12|                  45|        12.24|                   38|\n",
      "|2020-01-01 00:00:00|  10|        null|                null|          0.0|                    2|\n",
      "|2020-01-01 00:00:00|  12|        null|                null|          0.0|                    6|\n",
      "|2020-01-01 00:00:00|  13|        null|                null|         6.12|                   56|\n",
      "|2020-01-01 00:00:00|  14|        null|                null|          0.0|                    1|\n",
      "|2020-01-01 00:00:00|  15|        null|                null|          0.0|                    1|\n",
      "|2020-01-01 00:00:00|  17|         0.0|                   9|          0.0|                    8|\n",
      "|2020-01-01 00:00:00|  18|         0.0|                   1|          0.0|                    1|\n",
      "|2020-01-01 00:00:00|  22|         0.0|                   1|         null|                 null|\n",
      "|2020-01-01 00:00:00|  24|         0.0|                   3|        24.48|                   45|\n",
      "|2020-01-01 00:00:00|  25|         0.0|                  26|          0.0|                   16|\n",
      "|2020-01-01 00:00:00|  29|         0.0|                   1|         null|                 null|\n",
      "|2020-01-01 00:00:00|  32|         0.0|                   2|          0.0|                    1|\n",
      "|2020-01-01 00:00:00|  33|         0.0|                  11|        12.24|                    8|\n",
      "|2020-01-01 00:00:00|  34|        null|                null|          0.0|                    1|\n",
      "|2020-01-01 00:00:00|  35|         0.0|                   5|         null|                 null|\n",
      "|2020-01-01 00:00:00|  36|        6.12|                  11|          0.0|                    3|\n",
      "|2020-01-01 00:00:00|  37|         0.0|                   6|          0.0|                    7|\n",
      "+-------------------+----+------------+--------------------+-------------+---------------------+\n",
      "only showing top 20 rows\n",
      "\n"
     ]
    },
    {
     "name": "stderr",
     "output_type": "stream",
     "text": [
      "                                                                                \r"
     ]
    }
   ],
   "source": [
    "df_join.show()"
   ]
  },
  {
   "cell_type": "code",
   "execution_count": 34,
   "id": "67a9aef1-5d7f-4b9f-a59e-8544a8e00304",
   "metadata": {},
   "outputs": [],
   "source": [
    "df_join = spark.read.parquet('data/report/revenue/total')"
   ]
  },
  {
   "cell_type": "code",
   "execution_count": 36,
   "id": "0d54fd13-9182-461f-9203-af707a64691e",
   "metadata": {},
   "outputs": [
    {
     "ename": "AnalysisException",
     "evalue": "[PATH_NOT_FOUND] Path does not exist: file:/home/abinash/code/zones.",
     "output_type": "error",
     "traceback": [
      "\u001b[0;31m---------------------------------------------------------------------------\u001b[0m",
      "\u001b[0;31mAnalysisException\u001b[0m                         Traceback (most recent call last)",
      "Cell \u001b[0;32mIn[36], line 1\u001b[0m\n\u001b[0;32m----> 1\u001b[0m df_zones \u001b[38;5;241m=\u001b[39m \u001b[43mspark\u001b[49m\u001b[38;5;241;43m.\u001b[39;49m\u001b[43mread\u001b[49m\u001b[38;5;241;43m.\u001b[39;49m\u001b[43mparquet\u001b[49m\u001b[43m(\u001b[49m\u001b[38;5;124;43m'\u001b[39;49m\u001b[38;5;124;43mzones/\u001b[39;49m\u001b[38;5;124;43m'\u001b[39;49m\u001b[43m)\u001b[49m\n",
      "File \u001b[0;32m~/spark/spark-3.4.1-bin-hadoop3/python/pyspark/sql/readwriter.py:531\u001b[0m, in \u001b[0;36mDataFrameReader.parquet\u001b[0;34m(self, *paths, **options)\u001b[0m\n\u001b[1;32m    520\u001b[0m int96RebaseMode \u001b[38;5;241m=\u001b[39m options\u001b[38;5;241m.\u001b[39mget(\u001b[38;5;124m\"\u001b[39m\u001b[38;5;124mint96RebaseMode\u001b[39m\u001b[38;5;124m\"\u001b[39m, \u001b[38;5;28;01mNone\u001b[39;00m)\n\u001b[1;32m    521\u001b[0m \u001b[38;5;28mself\u001b[39m\u001b[38;5;241m.\u001b[39m_set_opts(\n\u001b[1;32m    522\u001b[0m     mergeSchema\u001b[38;5;241m=\u001b[39mmergeSchema,\n\u001b[1;32m    523\u001b[0m     pathGlobFilter\u001b[38;5;241m=\u001b[39mpathGlobFilter,\n\u001b[0;32m   (...)\u001b[0m\n\u001b[1;32m    528\u001b[0m     int96RebaseMode\u001b[38;5;241m=\u001b[39mint96RebaseMode,\n\u001b[1;32m    529\u001b[0m )\n\u001b[0;32m--> 531\u001b[0m \u001b[38;5;28;01mreturn\u001b[39;00m \u001b[38;5;28mself\u001b[39m\u001b[38;5;241m.\u001b[39m_df(\u001b[38;5;28;43mself\u001b[39;49m\u001b[38;5;241;43m.\u001b[39;49m\u001b[43m_jreader\u001b[49m\u001b[38;5;241;43m.\u001b[39;49m\u001b[43mparquet\u001b[49m\u001b[43m(\u001b[49m\u001b[43m_to_seq\u001b[49m\u001b[43m(\u001b[49m\u001b[38;5;28;43mself\u001b[39;49m\u001b[38;5;241;43m.\u001b[39;49m\u001b[43m_spark\u001b[49m\u001b[38;5;241;43m.\u001b[39;49m\u001b[43m_sc\u001b[49m\u001b[43m,\u001b[49m\u001b[43m \u001b[49m\u001b[43mpaths\u001b[49m\u001b[43m)\u001b[49m\u001b[43m)\u001b[49m)\n",
      "File \u001b[0;32m~/.local/lib/python3.10/site-packages/py4j/java_gateway.py:1322\u001b[0m, in \u001b[0;36mJavaMember.__call__\u001b[0;34m(self, *args)\u001b[0m\n\u001b[1;32m   1316\u001b[0m command \u001b[38;5;241m=\u001b[39m proto\u001b[38;5;241m.\u001b[39mCALL_COMMAND_NAME \u001b[38;5;241m+\u001b[39m\\\n\u001b[1;32m   1317\u001b[0m     \u001b[38;5;28mself\u001b[39m\u001b[38;5;241m.\u001b[39mcommand_header \u001b[38;5;241m+\u001b[39m\\\n\u001b[1;32m   1318\u001b[0m     args_command \u001b[38;5;241m+\u001b[39m\\\n\u001b[1;32m   1319\u001b[0m     proto\u001b[38;5;241m.\u001b[39mEND_COMMAND_PART\n\u001b[1;32m   1321\u001b[0m answer \u001b[38;5;241m=\u001b[39m \u001b[38;5;28mself\u001b[39m\u001b[38;5;241m.\u001b[39mgateway_client\u001b[38;5;241m.\u001b[39msend_command(command)\n\u001b[0;32m-> 1322\u001b[0m return_value \u001b[38;5;241m=\u001b[39m \u001b[43mget_return_value\u001b[49m\u001b[43m(\u001b[49m\n\u001b[1;32m   1323\u001b[0m \u001b[43m    \u001b[49m\u001b[43manswer\u001b[49m\u001b[43m,\u001b[49m\u001b[43m \u001b[49m\u001b[38;5;28;43mself\u001b[39;49m\u001b[38;5;241;43m.\u001b[39;49m\u001b[43mgateway_client\u001b[49m\u001b[43m,\u001b[49m\u001b[43m \u001b[49m\u001b[38;5;28;43mself\u001b[39;49m\u001b[38;5;241;43m.\u001b[39;49m\u001b[43mtarget_id\u001b[49m\u001b[43m,\u001b[49m\u001b[43m \u001b[49m\u001b[38;5;28;43mself\u001b[39;49m\u001b[38;5;241;43m.\u001b[39;49m\u001b[43mname\u001b[49m\u001b[43m)\u001b[49m\n\u001b[1;32m   1325\u001b[0m \u001b[38;5;28;01mfor\u001b[39;00m temp_arg \u001b[38;5;129;01min\u001b[39;00m temp_args:\n\u001b[1;32m   1326\u001b[0m     \u001b[38;5;28;01mif\u001b[39;00m \u001b[38;5;28mhasattr\u001b[39m(temp_arg, \u001b[38;5;124m\"\u001b[39m\u001b[38;5;124m_detach\u001b[39m\u001b[38;5;124m\"\u001b[39m):\n",
      "File \u001b[0;32m~/spark/spark-3.4.1-bin-hadoop3/python/pyspark/errors/exceptions/captured.py:175\u001b[0m, in \u001b[0;36mcapture_sql_exception.<locals>.deco\u001b[0;34m(*a, **kw)\u001b[0m\n\u001b[1;32m    171\u001b[0m converted \u001b[38;5;241m=\u001b[39m convert_exception(e\u001b[38;5;241m.\u001b[39mjava_exception)\n\u001b[1;32m    172\u001b[0m \u001b[38;5;28;01mif\u001b[39;00m \u001b[38;5;129;01mnot\u001b[39;00m \u001b[38;5;28misinstance\u001b[39m(converted, UnknownException):\n\u001b[1;32m    173\u001b[0m     \u001b[38;5;66;03m# Hide where the exception came from that shows a non-Pythonic\u001b[39;00m\n\u001b[1;32m    174\u001b[0m     \u001b[38;5;66;03m# JVM exception message.\u001b[39;00m\n\u001b[0;32m--> 175\u001b[0m     \u001b[38;5;28;01mraise\u001b[39;00m converted \u001b[38;5;28;01mfrom\u001b[39;00m \u001b[38;5;28;01mNone\u001b[39;00m\n\u001b[1;32m    176\u001b[0m \u001b[38;5;28;01melse\u001b[39;00m:\n\u001b[1;32m    177\u001b[0m     \u001b[38;5;28;01mraise\u001b[39;00m\n",
      "\u001b[0;31mAnalysisException\u001b[0m: [PATH_NOT_FOUND] Path does not exist: file:/home/abinash/code/zones."
     ]
    }
   ],
   "source": [
    "df_zones = spark.read.parquet('zones/')"
   ]
  },
  {
   "cell_type": "code",
   "execution_count": null,
   "id": "00580746-abd2-4b3b-aa7d-f634bb501176",
   "metadata": {},
   "outputs": [],
   "source": [
    "df_zones.show()"
   ]
  },
  {
   "cell_type": "code",
   "execution_count": 35,
   "id": "10aae0c4-2202-4be7-b9d6-6844ebcedecf",
   "metadata": {},
   "outputs": [
    {
     "name": "stdout",
     "output_type": "stream",
     "text": [
      "+-------------------+----+------------+--------------------+-------------+---------------------+\n",
      "|               hour|zone|green_amount|green_number_records|yellow_amount|yellow_number_records|\n",
      "+-------------------+----+------------+--------------------+-------------+---------------------+\n",
      "|2020-01-01 00:00:00|   3|        null|                null|          0.0|                    1|\n",
      "|2020-01-01 00:00:00|   4|        null|                null|         6.12|                   57|\n",
      "|2020-01-01 00:00:00|   7|        6.12|                  45|        12.24|                   38|\n",
      "|2020-01-01 00:00:00|  10|        null|                null|          0.0|                    2|\n",
      "|2020-01-01 00:00:00|  12|        null|                null|          0.0|                    6|\n",
      "|2020-01-01 00:00:00|  13|        null|                null|         6.12|                   56|\n",
      "|2020-01-01 00:00:00|  14|        null|                null|          0.0|                    1|\n",
      "|2020-01-01 00:00:00|  15|        null|                null|          0.0|                    1|\n",
      "|2020-01-01 00:00:00|  17|         0.0|                   9|          0.0|                    8|\n",
      "|2020-01-01 00:00:00|  18|         0.0|                   1|          0.0|                    1|\n",
      "|2020-01-01 00:00:00|  22|         0.0|                   1|         null|                 null|\n",
      "|2020-01-01 00:00:00|  24|         0.0|                   3|        24.48|                   45|\n",
      "|2020-01-01 00:00:00|  25|         0.0|                  26|          0.0|                   16|\n",
      "|2020-01-01 00:00:00|  29|         0.0|                   1|         null|                 null|\n",
      "|2020-01-01 00:00:00|  32|         0.0|                   2|          0.0|                    1|\n",
      "|2020-01-01 00:00:00|  33|         0.0|                  11|        12.24|                    8|\n",
      "|2020-01-01 00:00:00|  34|        null|                null|          0.0|                    1|\n",
      "|2020-01-01 00:00:00|  35|         0.0|                   5|         null|                 null|\n",
      "|2020-01-01 00:00:00|  36|        6.12|                  11|          0.0|                    3|\n",
      "|2020-01-01 00:00:00|  37|         0.0|                   6|          0.0|                    7|\n",
      "+-------------------+----+------------+--------------------+-------------+---------------------+\n",
      "only showing top 20 rows\n",
      "\n"
     ]
    }
   ],
   "source": [
    "df_join.show()"
   ]
  }
 ],
 "metadata": {
  "kernelspec": {
   "display_name": "Python 3 (ipykernel)",
   "language": "python",
   "name": "python3"
  },
  "language_info": {
   "codemirror_mode": {
    "name": "ipython",
    "version": 3
   },
   "file_extension": ".py",
   "mimetype": "text/x-python",
   "name": "python",
   "nbconvert_exporter": "python",
   "pygments_lexer": "ipython3",
   "version": "3.10.12"
  }
 },
 "nbformat": 4,
 "nbformat_minor": 5
}
