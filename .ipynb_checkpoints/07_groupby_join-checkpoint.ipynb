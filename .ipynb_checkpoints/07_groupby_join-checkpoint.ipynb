{
 "cells": [
  {
   "cell_type": "code",
   "execution_count": 1,
   "id": "30a8c571",
   "metadata": {},
   "outputs": [
    {
     "name": "stderr",
     "output_type": "stream",
     "text": [
      "Setting default log level to \"WARN\".\n",
      "To adjust logging level use sc.setLogLevel(newLevel). For SparkR, use setLogLevel(newLevel).\n",
      "23/11/22 08:16:46 WARN NativeCodeLoader: Unable to load native-hadoop library for your platform... using builtin-java classes where applicable\n"
     ]
    }
   ],
   "source": [
    "import pyspark\n",
    "from pyspark.sql import SparkSession\n",
    "\n",
    "spark= SparkSession.builder \\\n",
    "    .master(\"local\") \\\n",
    "    .appName('test') \\\n",
    "    .getOrCreate()"
   ]
  },
  {
   "cell_type": "code",
   "execution_count": 2,
   "id": "e8bc0da8",
   "metadata": {},
   "outputs": [
    {
     "name": "stderr",
     "output_type": "stream",
     "text": [
      "                                                                                \r"
     ]
    }
   ],
   "source": [
    "df_green= spark.read.parquet('data/pq/green/*/*')"
   ]
  },
  {
   "cell_type": "code",
   "execution_count": 3,
   "id": "a7be81b1",
   "metadata": {},
   "outputs": [
    {
     "data": {
      "text/plain": [
       "'3.4.1'"
      ]
     },
     "execution_count": 3,
     "metadata": {},
     "output_type": "execute_result"
    }
   ],
   "source": [
    "pyspark.__version__"
   ]
  },
  {
   "cell_type": "code",
   "execution_count": 4,
   "id": "b648f0c1",
   "metadata": {},
   "outputs": [
    {
     "data": {
      "text/plain": [
       "['VendorID',\n",
       " 'lpep_pickup_datetime',\n",
       " 'lpep_dropoff_datetime',\n",
       " 'store_and_fwd_flag',\n",
       " 'RatecodeID',\n",
       " 'PULocationID',\n",
       " 'DOLocationID',\n",
       " 'passenger_count',\n",
       " 'trip_distance',\n",
       " 'fare_amount',\n",
       " 'extra',\n",
       " 'mta_tax',\n",
       " 'tip_amount',\n",
       " 'tolls_amount',\n",
       " 'ehail_fee',\n",
       " 'improvement_surcharge',\n",
       " 'total_amount',\n",
       " 'payment_type',\n",
       " 'trip_type',\n",
       " 'congestion_surcharge']"
      ]
     },
     "execution_count": 4,
     "metadata": {},
     "output_type": "execute_result"
    }
   ],
   "source": [
    "df_green.columns"
   ]
  },
  {
   "cell_type": "code",
   "execution_count": 5,
   "id": "9556f70e",
   "metadata": {},
   "outputs": [],
   "source": [
    "df_green.createOrReplaceTempView('green')"
   ]
  },
  {
   "cell_type": "code",
   "execution_count": 6,
   "id": "ea2ee3cc",
   "metadata": {},
   "outputs": [],
   "source": [
    "from pyspark.sql.functions import date_trunc"
   ]
  },
  {
   "cell_type": "code",
   "execution_count": 7,
   "id": "b615316f",
   "metadata": {},
   "outputs": [],
   "source": [
    "df_green_result = spark.sql(\"\"\"\n",
    "SELECT \n",
    "    -- Reveneue grouping \n",
    "    PULocationID AS zone,\n",
    "    date_trunc('hour', lpep_pickup_datetime) AS hour, \n",
    "   \n",
    "    -- Revenue calculation \n",
    "    SUM(tolls_amount) AS amount,\n",
    "    COUNT(1) AS number_records\n",
    "FROM\n",
    "    green\n",
    "WHERE\n",
    "    lpep_pickup_datetime >= '2020-01-01 00:00:00'\n",
    "GROUP BY\n",
    "    1, 2\n",
    "ORDER BY\n",
    "    1, 2\n",
    "\"\"\")\n",
    "# Doing 1,2,3 provides the selection of top 3 params."
   ]
  },
  {
   "cell_type": "code",
   "execution_count": 8,
   "id": "93469cff-f04c-46bd-a70c-257025b5d221",
   "metadata": {},
   "outputs": [
    {
     "name": "stderr",
     "output_type": "stream",
     "text": [
      "[Stage 3:>                                                          (0 + 1) / 1]\r"
     ]
    },
    {
     "name": "stdout",
     "output_type": "stream",
     "text": [
      "+----+-------------------+------+--------------+\n",
      "|zone|               hour|amount|number_records|\n",
      "+----+-------------------+------+--------------+\n",
      "|   1|2020-01-01 03:00:00|   0.0|             1|\n",
      "|   1|2020-01-03 05:00:00|   0.0|             1|\n",
      "|   1|2020-01-26 10:00:00|   0.0|             1|\n",
      "|   1|2020-01-29 18:00:00|   0.0|             1|\n",
      "|   1|2020-02-01 06:00:00|   0.0|             1|\n",
      "|   1|2020-02-06 07:00:00|   0.0|             1|\n",
      "|   1|2020-02-16 07:00:00|   0.0|             1|\n",
      "|   1|2020-02-17 13:00:00|   0.0|             1|\n",
      "|   1|2020-02-26 17:00:00|   0.0|             1|\n",
      "|   1|2020-03-02 15:00:00|   0.0|             1|\n",
      "|   1|2020-03-11 12:00:00|   0.0|             1|\n",
      "|   1|2020-03-12 11:00:00|   0.0|             1|\n",
      "|   1|2020-03-14 11:00:00|   0.0|             1|\n",
      "|   1|2020-03-21 17:00:00|   0.0|             1|\n",
      "|   1|2020-04-10 13:00:00|   0.0|             1|\n",
      "|   1|2020-04-23 08:00:00|   0.0|             1|\n",
      "|   1|2020-07-12 07:00:00|  10.5|             1|\n",
      "|   1|2020-07-15 06:00:00|   0.0|             1|\n",
      "|   1|2020-07-18 18:00:00|  12.5|             1|\n",
      "|   1|2020-08-16 15:00:00| 13.75|             1|\n",
      "+----+-------------------+------+--------------+\n",
      "only showing top 20 rows\n",
      "\n"
     ]
    },
    {
     "name": "stderr",
     "output_type": "stream",
     "text": [
      "                                                                                \r"
     ]
    }
   ],
   "source": [
    "df_green_result.show()"
   ]
  },
  {
   "cell_type": "code",
   "execution_count": 9,
   "id": "30605bf9-772a-45a2-8829-65f5ec5be5f4",
   "metadata": {},
   "outputs": [
    {
     "name": "stderr",
     "output_type": "stream",
     "text": [
      "                                                                                \r"
     ]
    }
   ],
   "source": [
    "df_green_result.write.parquet('data/report/revenue/green', mode='overwrite')"
   ]
  },
  {
   "cell_type": "code",
   "execution_count": 10,
   "id": "6f03dc37-8860-4070-a32d-ed3a12f4a595",
   "metadata": {},
   "outputs": [],
   "source": [
    "df_yellow= spark.read.parquet('data/pq/yellow/*/*')\n",
    "df_yellow.createOrReplaceTempView('yellow')"
   ]
  },
  {
   "cell_type": "code",
   "execution_count": 11,
   "id": "7f3e6d0b-ec46-4e59-89ed-e949db363f40",
   "metadata": {},
   "outputs": [
    {
     "data": {
      "text/plain": [
       "['VendorID',\n",
       " 'tpep_pickup_datetime',\n",
       " 'tpep_dropoff_datetime',\n",
       " 'passenger_count',\n",
       " 'trip_distance',\n",
       " 'RatecodeID',\n",
       " 'store_and_fwd_flag',\n",
       " 'PULocationID',\n",
       " 'DOLocationID',\n",
       " 'payment_type',\n",
       " 'fare_amount',\n",
       " 'extra',\n",
       " 'mta_tax',\n",
       " 'tip_amount',\n",
       " 'tolls_amount',\n",
       " 'improvement_surcharge',\n",
       " 'total_amount',\n",
       " 'congestion_surcharge']"
      ]
     },
     "execution_count": 11,
     "metadata": {},
     "output_type": "execute_result"
    }
   ],
   "source": [
    "df_yellow.columns"
   ]
  },
  {
   "cell_type": "code",
   "execution_count": 12,
   "id": "a94be001-027c-4046-a136-0e39e6512f9d",
   "metadata": {},
   "outputs": [],
   "source": [
    "df_yellow_result = spark.sql(\"\"\"\n",
    "SELECT \n",
    "    -- Reveneue grouping \n",
    "    PULocationID AS zone,\n",
    "    date_trunc('hour', tpep_pickup_datetime) AS hour, \n",
    "   \n",
    "    -- Revenue calculation \n",
    "    SUM(tolls_amount) AS amount,\n",
    "    COUNT(1) AS number_records\n",
    "FROM\n",
    "    yellow\n",
    "WHERE\n",
    "    tpep_pickup_datetime >= '2020-01-01 00:00:00'\n",
    "GROUP BY\n",
    "    1, 2\n",
    "ORDER BY\n",
    "    1, 2\n",
    "\"\"\")\n",
    "# Doing 1,2,3 provides the selection of top 3 params."
   ]
  },
  {
   "cell_type": "code",
   "execution_count": 13,
   "id": "00932800-d7ba-4816-adbb-e00e596b94ca",
   "metadata": {},
   "outputs": [
    {
     "name": "stderr",
     "output_type": "stream",
     "text": [
      "[Stage 15:>                                                         (0 + 1) / 1]\r"
     ]
    },
    {
     "name": "stdout",
     "output_type": "stream",
     "text": [
      "+----+-------------------+------+--------------+\n",
      "|zone|               hour|amount|number_records|\n",
      "+----+-------------------+------+--------------+\n",
      "|   1|2020-01-01 03:00:00|   0.0|             1|\n",
      "|   1|2020-01-01 04:00:00|   0.0|             1|\n",
      "|   1|2020-01-01 05:00:00|   0.0|             1|\n",
      "|   1|2020-01-01 06:00:00|  43.5|             4|\n",
      "|   1|2020-01-01 07:00:00|   0.0|             1|\n",
      "|   1|2020-01-01 08:00:00|   0.0|             1|\n",
      "|   1|2020-01-01 09:00:00|   0.0|             2|\n",
      "|   1|2020-01-01 10:00:00|   0.0|             2|\n",
      "|   1|2020-01-01 11:00:00|   0.0|             1|\n",
      "|   1|2020-01-01 12:00:00|   0.0|             3|\n",
      "|   1|2020-01-01 13:00:00|  25.0|             2|\n",
      "|   1|2020-01-01 14:00:00|  17.0|             3|\n",
      "|   1|2020-01-01 15:00:00|  15.5|             4|\n",
      "|   1|2020-01-01 16:00:00|  21.0|             6|\n",
      "|   1|2020-01-01 17:00:00|  17.5|             3|\n",
      "|   1|2020-01-01 18:00:00|   0.0|             3|\n",
      "|   1|2020-01-01 19:00:00|   0.0|             1|\n",
      "|   1|2020-01-01 20:00:00|   0.0|             3|\n",
      "|   1|2020-01-02 01:00:00|   0.0|             1|\n",
      "|   1|2020-01-02 03:00:00|   0.0|             1|\n",
      "+----+-------------------+------+--------------+\n",
      "only showing top 20 rows\n",
      "\n"
     ]
    },
    {
     "name": "stderr",
     "output_type": "stream",
     "text": [
      "                                                                                \r"
     ]
    }
   ],
   "source": [
    "df_yellow_result.show()"
   ]
  },
  {
   "cell_type": "code",
   "execution_count": 14,
   "id": "5d92eff4-53aa-4c56-a322-66f4ac886455",
   "metadata": {},
   "outputs": [
    {
     "name": "stderr",
     "output_type": "stream",
     "text": [
      "                                                                                \r"
     ]
    }
   ],
   "source": [
    "df_yellow_result.write.parquet('data/report/revenue/yellow', mode='overwrite')"
   ]
  },
  {
   "cell_type": "code",
   "execution_count": null,
   "id": "3cf876c1-6899-4ea3-bad8-543ffe2521e4",
   "metadata": {},
   "outputs": [],
   "source": [
    "df_green_result\\\n",
    "    .withColumnRenamed('amount', 'green_amount') \\\n",
    "    .withColumnRenamed('number_records','green_number_records')\n",
    "\n",
    "df_yellow_revenue_tmp = df_green_revenue \\\n",
    "    .withColumnRenamed('amount', 'yellow_amount') \\\n",
    "    .withColumnRenamed('number_records','yellow_number_records')"
   ]
  },
  {
   "cell_type": "code",
   "execution_count": null,
   "id": "74a520a6-e8cc-4657-91f5-ca9738caf4b4",
   "metadata": {},
   "outputs": [],
   "source": []
  },
  {
   "cell_type": "code",
   "execution_count": null,
   "id": "ca2cf2dd-a49d-4811-aa8b-3f625197e8d3",
   "metadata": {},
   "outputs": [],
   "source": [
    " df_green_result.join(df_yellow_result, on=['hour','zone'], how='outer')"
   ]
  },
  {
   "cell_type": "code",
   "execution_count": null,
   "id": "be7df06c-8b6c-4544-8ac1-5a68e3fffc28",
   "metadata": {},
   "outputs": [],
   "source": []
  },
  {
   "cell_type": "code",
   "execution_count": null,
   "id": "67a9aef1-5d7f-4b9f-a59e-8544a8e00304",
   "metadata": {},
   "outputs": [],
   "source": []
  },
  {
   "cell_type": "code",
   "execution_count": null,
   "id": "10aae0c4-2202-4be7-b9d6-6844ebcedecf",
   "metadata": {},
   "outputs": [],
   "source": []
  }
 ],
 "metadata": {
  "kernelspec": {
   "display_name": "Python 3 (ipykernel)",
   "language": "python",
   "name": "python3"
  },
  "language_info": {
   "codemirror_mode": {
    "name": "ipython",
    "version": 3
   },
   "file_extension": ".py",
   "mimetype": "text/x-python",
   "name": "python",
   "nbconvert_exporter": "python",
   "pygments_lexer": "ipython3",
   "version": "3.10.12"
  }
 },
 "nbformat": 4,
 "nbformat_minor": 5
}
