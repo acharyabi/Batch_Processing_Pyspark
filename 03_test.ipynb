{
 "cells": [
  {
   "cell_type": "code",
   "execution_count": 4,
   "id": "429f7340-470e-475c-9050-188c565e2814",
   "metadata": {},
   "outputs": [
    {
     "name": "stderr",
     "output_type": "stream",
     "text": [
      "Setting default log level to \"WARN\".\n",
      "To adjust logging level use sc.setLogLevel(newLevel). For SparkR, use setLogLevel(newLevel).\n",
      "23/11/22 09:14:10 WARN NativeCodeLoader: Unable to load native-hadoop library for your platform... using builtin-java classes where applicable\n",
      "23/11/22 09:14:11 WARN Utils: Service 'SparkUI' could not bind on port 4040. Attempting port 4041.\n"
     ]
    }
   ],
   "source": [
    "import pyspark\n",
    "from pyspark.sql import SparkSession\n",
    "\n",
    "spark= SparkSession.builder \\\n",
    "    .master(\"local\") \\\n",
    "    .appName('test') \\\n",
    "    .getOrCreate()"
   ]
  },
  {
   "cell_type": "code",
   "execution_count": 5,
   "id": "1a0b2512-c97a-4839-8769-dd9dc2d6a6cd",
   "metadata": {},
   "outputs": [
    {
     "name": "stdout",
     "output_type": "stream",
     "text": [
      "\"LocationID\",\"Borough\",\"Zone\",\"service_zone\"\n",
      "1,\"EWR\",\"Newark Airport\",\"EWR\"\n",
      "2,\"Queens\",\"Jamaica Bay\",\"Boro Zone\"\n",
      "3,\"Bronx\",\"Allerton/Pelham Gardens\",\"Boro Zone\"\n",
      "4,\"Manhattan\",\"Alphabet City\",\"Yellow Zone\"\n",
      "5,\"Staten Island\",\"Arden Heights\",\"Boro Zone\"\n",
      "6,\"Staten Island\",\"Arrochar/Fort Wadsworth\",\"Boro Zone\"\n",
      "7,\"Queens\",\"Astoria\",\"Boro Zone\"\n",
      "8,\"Queens\",\"Astoria Park\",\"Boro Zone\"\n",
      "9,\"Queens\",\"Auburndale\",\"Boro Zone\"\n"
     ]
    }
   ],
   "source": [
    "!head taxi+_zone_lookup.csv"
   ]
  },
  {
   "cell_type": "code",
   "execution_count": 6,
   "id": "f5d3c90e-1a9f-416f-8bb5-1069977d7674",
   "metadata": {},
   "outputs": [],
   "source": [
    "df = spark.read \\\n",
    "    .option(\"header\", \"true\") \\\n",
    "    .csv('taxi+_zone_lookup.csv')"
   ]
  },
  {
   "cell_type": "code",
   "execution_count": 7,
   "id": "1cb73adc-6558-4308-9ffe-4e69a1659572",
   "metadata": {},
   "outputs": [
    {
     "name": "stdout",
     "output_type": "stream",
     "text": [
      "+----------+-------------+--------------------+------------+\n",
      "|LocationID|      Borough|                Zone|service_zone|\n",
      "+----------+-------------+--------------------+------------+\n",
      "|         1|          EWR|      Newark Airport|         EWR|\n",
      "|         2|       Queens|         Jamaica Bay|   Boro Zone|\n",
      "|         3|        Bronx|Allerton/Pelham G...|   Boro Zone|\n",
      "|         4|    Manhattan|       Alphabet City| Yellow Zone|\n",
      "|         5|Staten Island|       Arden Heights|   Boro Zone|\n",
      "|         6|Staten Island|Arrochar/Fort Wad...|   Boro Zone|\n",
      "|         7|       Queens|             Astoria|   Boro Zone|\n",
      "|         8|       Queens|        Astoria Park|   Boro Zone|\n",
      "|         9|       Queens|          Auburndale|   Boro Zone|\n",
      "|        10|       Queens|        Baisley Park|   Boro Zone|\n",
      "|        11|     Brooklyn|          Bath Beach|   Boro Zone|\n",
      "|        12|    Manhattan|        Battery Park| Yellow Zone|\n",
      "|        13|    Manhattan|   Battery Park City| Yellow Zone|\n",
      "|        14|     Brooklyn|           Bay Ridge|   Boro Zone|\n",
      "|        15|       Queens|Bay Terrace/Fort ...|   Boro Zone|\n",
      "|        16|       Queens|             Bayside|   Boro Zone|\n",
      "|        17|     Brooklyn|             Bedford|   Boro Zone|\n",
      "|        18|        Bronx|        Bedford Park|   Boro Zone|\n",
      "|        19|       Queens|           Bellerose|   Boro Zone|\n",
      "|        20|        Bronx|             Belmont|   Boro Zone|\n",
      "+----------+-------------+--------------------+------------+\n",
      "only showing top 20 rows\n",
      "\n"
     ]
    }
   ],
   "source": [
    "df.show()"
   ]
  },
  {
   "cell_type": "code",
   "execution_count": 9,
   "id": "aa6405e1-7b7b-4cd1-96c4-45b7a5429324",
   "metadata": {},
   "outputs": [
    {
     "name": "stderr",
     "output_type": "stream",
     "text": [
      "                                                                                \r"
     ]
    }
   ],
   "source": [
    "df.write.parquet('zones')"
   ]
  },
  {
   "cell_type": "code",
   "execution_count": 10,
   "id": "e8e8d03d-9f76-449e-afd9-e95c534b659e",
   "metadata": {},
   "outputs": [
    {
     "name": "stdout",
     "output_type": "stream",
     "text": [
      "total 707M\n",
      "-rw-rw-r-- 1 abinash abinash 3.3K Nov 22 09:14 03_test.ipynb\n",
      "-rw-rw-r-- 1 abinash abinash  32K Nov 12 14:48 04_pyspark.ipynb\n",
      "-rw-rw-r-- 1 abinash abinash  44K Nov 12 16:26 05_taxi_schema.ipynb\n",
      "-rw-rw-r-- 1 abinash abinash  38K Nov 22 05:09 06_spark_sql.ipynb\n",
      "-rw-rw-r-- 1 abinash abinash  25K Nov 22 09:05 07_groupby_join.ipynb\n",
      "-rw-rw-r-- 1 abinash abinash  618 Nov 22 09:11 Untitled.ipynb\n",
      "-rw-rw-r-- 1 abinash abinash   72 Nov 22 09:12 Untitled1.ipynb\n",
      "drwxrwxr-x 5 abinash abinash 4.0K Nov 13 07:16 data\n",
      "-rwxrwxr-x 1 abinash abinash  711 Nov 12 15:43 download_data.sh\n",
      "drwxr-xr-x 3 abinash abinash 4.0K Nov 12 09:32 fhvhv\n",
      "-rw-rw-r-- 1 abinash abinash 707M Nov 12 09:05 fhvhv_tripdata_2021-01.csv\n",
      "-rw-rw-r-- 1 abinash abinash 6.2K Nov 12 09:06 head.csv\n",
      "-rw-rw-r-- 1 abinash abinash  453 Nov 22 05:11 pyspark.txt\n",
      "-rw-rw-r-- 1 abinash abinash 3.8K Nov 13 07:07 schema.txt\n",
      "drwxrwxr-x 2 abinash abinash 4.0K Nov 22 09:08 spark\n",
      "drwxr-xr-x 2 abinash abinash 4.0K Nov 13 06:31 spark-warehouse\n",
      "-rw-rw-r-- 1 abinash abinash  13K Nov 22 09:08 taxi+_zone_lookup.csv\n",
      "drwxr-xr-x 2 abinash abinash 4.0K Nov 22 09:14 zones\n"
     ]
    }
   ],
   "source": [
    "!ls -lh"
   ]
  }
 ],
 "metadata": {
  "kernelspec": {
   "display_name": "Python 3 (ipykernel)",
   "language": "python",
   "name": "python3"
  },
  "language_info": {
   "codemirror_mode": {
    "name": "ipython",
    "version": 3
   },
   "file_extension": ".py",
   "mimetype": "text/x-python",
   "name": "python",
   "nbconvert_exporter": "python",
   "pygments_lexer": "ipython3",
   "version": "3.10.12"
  }
 },
 "nbformat": 4,
 "nbformat_minor": 5
}
